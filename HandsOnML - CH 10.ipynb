{
 "cells": [
  {
   "cell_type": "markdown",
   "metadata": {},
   "source": [
    "# Chapter 10\n",
    "## Introduction to Artificial Neural Networks with Keras\n",
    "Hands-On Machine Learning TensorFlow 2.0 & Keras\n",
    "\n",
    "### What is Keras?\n",
    "Keras is an API designed for human beings, not machines. Keras follows best practices for reducing cognitive load: it offers consistent & simple APIs, it minimizes the number of user actions required for common use cases, and it provides clear & actionable error messages. It also has extensive documentation and developer guides."
   ]
  },
  {
   "cell_type": "code",
   "execution_count": 26,
   "metadata": {},
   "outputs": [],
   "source": [
    "import tensorflow as tf\n",
    "from tensorflow import keras"
   ]
  },
  {
   "cell_type": "code",
   "execution_count": 27,
   "metadata": {},
   "outputs": [
    {
     "data": {
      "text/plain": [
       "'2.2.4-tf'"
      ]
     },
     "execution_count": 27,
     "metadata": {},
     "output_type": "execute_result"
    }
   ],
   "source": [
    "tf.__version__\n",
    "keras.__version__"
   ]
  },
  {
   "cell_type": "markdown",
   "metadata": {},
   "source": [
    "## Implmenting Keras with fashion_mnist"
   ]
  },
  {
   "cell_type": "code",
   "execution_count": 28,
   "metadata": {},
   "outputs": [],
   "source": [
    "fashion_mnist = keras.datasets.fashion_mnist"
   ]
  },
  {
   "cell_type": "code",
   "execution_count": 29,
   "metadata": {},
   "outputs": [],
   "source": [
    "(X_train_full, y_train_full),(X_test, y_test) = fashion_mnist.load_data()"
   ]
  },
  {
   "cell_type": "code",
   "execution_count": 30,
   "metadata": {},
   "outputs": [
    {
     "data": {
      "text/plain": [
       "dtype('uint8')"
      ]
     },
     "execution_count": 30,
     "metadata": {},
     "output_type": "execute_result"
    }
   ],
   "source": [
    "X_train_full.shape\n",
    "X_train_full.dtype"
   ]
  },
  {
   "cell_type": "markdown",
   "metadata": {},
   "source": [
    "### Creating a validation set"
   ]
  },
  {
   "cell_type": "code",
   "execution_count": 54,
   "metadata": {},
   "outputs": [],
   "source": [
    "X_valid, X_train = X_train_full[:5000]/255.0, X_train_full[5000:]/255.0\n",
    "\n",
    "y_valid, y_train = y_train_full[:5000], y_train_full[5000:]"
   ]
  },
  {
   "cell_type": "markdown",
   "metadata": {},
   "source": [
    "### MNIST != Fashion mnist, class names are not numeric but values"
   ]
  },
  {
   "cell_type": "code",
   "execution_count": 24,
   "metadata": {},
   "outputs": [],
   "source": [
    "class_names = [\"T-shirt/top\", \"Trouser\",\"Pullover\",\"Dress\",\"Coat\", \"Sandal\", \"Shirt\", \"Sneaker\", \"Bag\", \"Ankle boot\"]"
   ]
  },
  {
   "cell_type": "code",
   "execution_count": null,
   "metadata": {},
   "outputs": [],
   "source": []
  },
  {
   "cell_type": "code",
   "execution_count": 35,
   "metadata": {},
   "outputs": [
    {
     "data": {
      "text/plain": [
       "'Coat'"
      ]
     },
     "execution_count": 35,
     "metadata": {},
     "output_type": "execute_result"
    }
   ],
   "source": [
    "class_names[y_train[0]] # The first element in our training data is a Coat"
   ]
  },
  {
   "cell_type": "markdown",
   "metadata": {},
   "source": [
    "### Building the model"
   ]
  },
  {
   "cell_type": "code",
   "execution_count": 36,
   "metadata": {},
   "outputs": [],
   "source": [
    "model = keras.models.Sequential()\n",
    "model.add(keras.layers.Flatten(input_shape = [28,28])) # flatten our data to a shape of 28x28\n",
    "model.add(keras.layers.Dense(300, activation = \"relu\")) # activation function and the number of input layers\n",
    "model.add(keras.layers.Dense(100, activation = \"relu\")) # hidden layer\n",
    "model.add(keras.layers.Dense(10, activation = \"softmax\")) # output layer"
   ]
  },
  {
   "cell_type": "code",
   "execution_count": 37,
   "metadata": {},
   "outputs": [
    {
     "name": "stdout",
     "output_type": "stream",
     "text": [
      "Model: \"sequential\"\n",
      "_________________________________________________________________\n",
      "Layer (type)                 Output Shape              Param #   \n",
      "=================================================================\n",
      "flatten (Flatten)            (None, 784)               0         \n",
      "_________________________________________________________________\n",
      "dense (Dense)                (None, 300)               235500    \n",
      "_________________________________________________________________\n",
      "dense_1 (Dense)              (None, 100)               30100     \n",
      "_________________________________________________________________\n",
      "dense_2 (Dense)              (None, 10)                1010      \n",
      "=================================================================\n",
      "Total params: 266,610\n",
      "Trainable params: 266,610\n",
      "Non-trainable params: 0\n",
      "_________________________________________________________________\n"
     ]
    }
   ],
   "source": [
    "model.summary()"
   ]
  },
  {
   "cell_type": "code",
   "execution_count": 44,
   "metadata": {},
   "outputs": [
    {
     "name": "stdout",
     "output_type": "stream",
     "text": [
      "[<tensorflow.python.keras.layers.core.Flatten object at 0x000002AABBA4FE08>, <tensorflow.python.keras.layers.core.Dense object at 0x000002AABBA5D188>, <tensorflow.python.keras.layers.core.Dense object at 0x000002AAB4D00808>, <tensorflow.python.keras.layers.core.Dense object at 0x000002AAB4CD10C8>]\n"
     ]
    },
    {
     "data": {
      "text/plain": [
       "'dense'"
      ]
     },
     "execution_count": 44,
     "metadata": {},
     "output_type": "execute_result"
    }
   ],
   "source": [
    "print(model.layers)\n",
    "hidden = model.layers[1]\n",
    "hidden.name # extract layer information"
   ]
  },
  {
   "cell_type": "code",
   "execution_count": 45,
   "metadata": {},
   "outputs": [],
   "source": [
    "weights, biases = hidden.get_weights()"
   ]
  },
  {
   "cell_type": "code",
   "execution_count": 48,
   "metadata": {},
   "outputs": [
    {
     "data": {
      "text/plain": [
       "(784, 300)"
      ]
     },
     "execution_count": 48,
     "metadata": {},
     "output_type": "execute_result"
    }
   ],
   "source": [
    "\n",
    "weights.shape"
   ]
  },
  {
   "cell_type": "code",
   "execution_count": 49,
   "metadata": {},
   "outputs": [],
   "source": [
    "model.compile(loss = \"sparse_categorical_crossentropy\",\n",
    "             optimizer = \"sgd\",\n",
    "             metrics = [\"accuracy\"])"
   ]
  },
  {
   "cell_type": "code",
   "execution_count": 52,
   "metadata": {},
   "outputs": [
    {
     "data": {
      "text/plain": [
       "(5000, 28, 28)"
      ]
     },
     "execution_count": 52,
     "metadata": {},
     "output_type": "execute_result"
    }
   ],
   "source": [
    "X_valid.shape"
   ]
  },
  {
   "cell_type": "code",
   "execution_count": 55,
   "metadata": {},
   "outputs": [
    {
     "data": {
      "text/plain": [
       "(5000,)"
      ]
     },
     "execution_count": 55,
     "metadata": {},
     "output_type": "execute_result"
    }
   ],
   "source": [
    "y_valid.shape"
   ]
  },
  {
   "cell_type": "code",
   "execution_count": 57,
   "metadata": {},
   "outputs": [
    {
     "name": "stdout",
     "output_type": "stream",
     "text": [
      "Train on 55000 samples, validate on 5000 samples\n",
      "Epoch 1/30\n",
      "55000/55000 [==============================] - 3s 59us/sample - loss: 0.2273 - accuracy: 0.9192 - val_loss: 0.2934 - val_accuracy: 0.8974\n",
      "Epoch 2/30\n",
      "55000/55000 [==============================] - 3s 58us/sample - loss: 0.2229 - accuracy: 0.9201 - val_loss: 0.2917 - val_accuracy: 0.8974\n",
      "Epoch 3/30\n",
      "55000/55000 [==============================] - 3s 58us/sample - loss: 0.2192 - accuracy: 0.9216 - val_loss: 0.2979 - val_accuracy: 0.8964\n",
      "Epoch 4/30\n",
      "55000/55000 [==============================] - 3s 58us/sample - loss: 0.2154 - accuracy: 0.9227 - val_loss: 0.2942 - val_accuracy: 0.8964\n",
      "Epoch 5/30\n",
      "55000/55000 [==============================] - 3s 58us/sample - loss: 0.2140 - accuracy: 0.9239 - val_loss: 0.3229 - val_accuracy: 0.8868\n",
      "Epoch 6/30\n",
      "55000/55000 [==============================] - 3s 58us/sample - loss: 0.2089 - accuracy: 0.9247 - val_loss: 0.3106 - val_accuracy: 0.8904\n",
      "Epoch 7/30\n",
      "55000/55000 [==============================] - 3s 58us/sample - loss: 0.2067 - accuracy: 0.9251 - val_loss: 0.2899 - val_accuracy: 0.8972\n",
      "Epoch 8/30\n",
      "55000/55000 [==============================] - 3s 58us/sample - loss: 0.2022 - accuracy: 0.9275 - val_loss: 0.2945 - val_accuracy: 0.8984\n",
      "Epoch 9/30\n",
      "55000/55000 [==============================] - 3s 58us/sample - loss: 0.2002 - accuracy: 0.9282 - val_loss: 0.2902 - val_accuracy: 0.8964\n",
      "Epoch 10/30\n",
      "55000/55000 [==============================] - 3s 58us/sample - loss: 0.1966 - accuracy: 0.9295 - val_loss: 0.2898 - val_accuracy: 0.8994\n",
      "Epoch 11/30\n",
      "55000/55000 [==============================] - 3s 58us/sample - loss: 0.1931 - accuracy: 0.9304 - val_loss: 0.3005 - val_accuracy: 0.8952\n",
      "Epoch 12/30\n",
      "55000/55000 [==============================] - 3s 58us/sample - loss: 0.1903 - accuracy: 0.9324 - val_loss: 0.2924 - val_accuracy: 0.8992\n",
      "Epoch 13/30\n",
      "55000/55000 [==============================] - 3s 58us/sample - loss: 0.1880 - accuracy: 0.9333 - val_loss: 0.2936 - val_accuracy: 0.8976\n",
      "Epoch 14/30\n",
      "55000/55000 [==============================] - 3s 58us/sample - loss: 0.1858 - accuracy: 0.9338 - val_loss: 0.2944 - val_accuracy: 0.8978\n",
      "Epoch 15/30\n",
      "55000/55000 [==============================] - 3s 58us/sample - loss: 0.1825 - accuracy: 0.9352 - val_loss: 0.3025 - val_accuracy: 0.8974\n",
      "Epoch 16/30\n",
      "55000/55000 [==============================] - 3s 59us/sample - loss: 0.1801 - accuracy: 0.9357 - val_loss: 0.2987 - val_accuracy: 0.8960\n",
      "Epoch 17/30\n",
      "55000/55000 [==============================] - 3s 58us/sample - loss: 0.1761 - accuracy: 0.9369 - val_loss: 0.2998 - val_accuracy: 0.8986\n",
      "Epoch 18/30\n",
      "55000/55000 [==============================] - 3s 58us/sample - loss: 0.1751 - accuracy: 0.9383 - val_loss: 0.2941 - val_accuracy: 0.8984\n",
      "Epoch 19/30\n",
      "55000/55000 [==============================] - 3s 58us/sample - loss: 0.1726 - accuracy: 0.9382 - val_loss: 0.2940 - val_accuracy: 0.8956\n",
      "Epoch 20/30\n",
      "55000/55000 [==============================] - 3s 58us/sample - loss: 0.1673 - accuracy: 0.9409 - val_loss: 0.2963 - val_accuracy: 0.8968\n",
      "Epoch 21/30\n",
      "55000/55000 [==============================] - 3s 58us/sample - loss: 0.1670 - accuracy: 0.9414 - val_loss: 0.3150 - val_accuracy: 0.8952\n",
      "Epoch 22/30\n",
      "55000/55000 [==============================] - 3s 58us/sample - loss: 0.1635 - accuracy: 0.9421 - val_loss: 0.3105 - val_accuracy: 0.8940\n",
      "Epoch 23/30\n",
      "55000/55000 [==============================] - 3s 60us/sample - loss: 0.1604 - accuracy: 0.9435 - val_loss: 0.3369 - val_accuracy: 0.8876\n",
      "Epoch 24/30\n",
      "55000/55000 [==============================] - 3s 60us/sample - loss: 0.1576 - accuracy: 0.9442 - val_loss: 0.2907 - val_accuracy: 0.9004\n",
      "Epoch 25/30\n",
      "55000/55000 [==============================] - 3s 59us/sample - loss: 0.1568 - accuracy: 0.9442 - val_loss: 0.3054 - val_accuracy: 0.8958\n",
      "Epoch 26/30\n",
      "55000/55000 [==============================] - 3s 60us/sample - loss: 0.1534 - accuracy: 0.9459 - val_loss: 0.2944 - val_accuracy: 0.9008\n",
      "Epoch 27/30\n",
      "55000/55000 [==============================] - 3s 59us/sample - loss: 0.1499 - accuracy: 0.9473 - val_loss: 0.3077 - val_accuracy: 0.8952\n",
      "Epoch 28/30\n",
      "55000/55000 [==============================] - 3s 59us/sample - loss: 0.1491 - accuracy: 0.9471 - val_loss: 0.3009 - val_accuracy: 0.9004\n",
      "Epoch 29/30\n",
      "55000/55000 [==============================] - 3s 58us/sample - loss: 0.1462 - accuracy: 0.9477 - val_loss: 0.3224 - val_accuracy: 0.8966\n",
      "Epoch 30/30\n",
      "55000/55000 [==============================] - 3s 58us/sample - loss: 0.1455 - accuracy: 0.9481 - val_loss: 0.3356 - val_accuracy: 0.8894\n"
     ]
    }
   ],
   "source": [
    "history = model.fit(X_train, y_train, epochs = 30, validation_data = (X_valid, y_valid))"
   ]
  },
  {
   "cell_type": "code",
   "execution_count": 59,
   "metadata": {},
   "outputs": [
    {
     "data": {
      "text/plain": [
       "{'batch_size': 32,\n",
       " 'epochs': 30,\n",
       " 'steps': 1719,\n",
       " 'samples': 55000,\n",
       " 'verbose': 0,\n",
       " 'do_validation': True,\n",
       " 'metrics': ['loss', 'accuracy', 'val_loss', 'val_accuracy']}"
      ]
     },
     "execution_count": 59,
     "metadata": {},
     "output_type": "execute_result"
    }
   ],
   "source": [
    "history.params # parameters of the model that we run"
   ]
  },
  {
   "cell_type": "code",
   "execution_count": 61,
   "metadata": {},
   "outputs": [
    {
     "data": {
      "text/plain": [
       "{'loss': [0.22729653288884596,\n",
       "  0.22288982166593724,\n",
       "  0.21917147395827555,\n",
       "  0.21539555537158792,\n",
       "  0.21397749076648193,\n",
       "  0.2089453416629271,\n",
       "  0.20674337955496527,\n",
       "  0.20218531475609,\n",
       "  0.20018938705162567,\n",
       "  0.19662494362159208,\n",
       "  0.19307928605756977,\n",
       "  0.19030231093818492,\n",
       "  0.18803715930093418,\n",
       "  0.18578627709041942,\n",
       "  0.18245272399620577,\n",
       "  0.1800882367643443,\n",
       "  0.17609554552273315,\n",
       "  0.17511406754255296,\n",
       "  0.17264558020396667,\n",
       "  0.16730806564092637,\n",
       "  0.166994476090778,\n",
       "  0.1635266649777239,\n",
       "  0.16040208325386046,\n",
       "  0.1575751285038211,\n",
       "  0.15680206664909016,\n",
       "  0.15342931148572403,\n",
       "  0.14994606947898864,\n",
       "  0.1490610757058317,\n",
       "  0.14615024079951372,\n",
       "  0.1455031626378948],\n",
       " 'accuracy': [0.9192,\n",
       "  0.92005455,\n",
       "  0.9215818,\n",
       "  0.92274547,\n",
       "  0.92392725,\n",
       "  0.92465454,\n",
       "  0.9251091,\n",
       "  0.92750907,\n",
       "  0.92816365,\n",
       "  0.9295273,\n",
       "  0.9304364,\n",
       "  0.93243635,\n",
       "  0.9332909,\n",
       "  0.93381816,\n",
       "  0.9351818,\n",
       "  0.9357091,\n",
       "  0.93685454,\n",
       "  0.93832725,\n",
       "  0.9382,\n",
       "  0.9408727,\n",
       "  0.94136363,\n",
       "  0.9420909,\n",
       "  0.9435273,\n",
       "  0.9442,\n",
       "  0.9442,\n",
       "  0.94585454,\n",
       "  0.94734544,\n",
       "  0.9471273,\n",
       "  0.94774544,\n",
       "  0.9480909],\n",
       " 'val_loss': [0.29342976731061937,\n",
       "  0.2916939600408077,\n",
       "  0.29788219089210033,\n",
       "  0.294227685020864,\n",
       "  0.3229300006985664,\n",
       "  0.3106114486336708,\n",
       "  0.2899474336206913,\n",
       "  0.29449439453184606,\n",
       "  0.29022802426218985,\n",
       "  0.2898049571454525,\n",
       "  0.3005380818724632,\n",
       "  0.2924014287829399,\n",
       "  0.2935619827285409,\n",
       "  0.29442526735663416,\n",
       "  0.3024905732274055,\n",
       "  0.2986642279177904,\n",
       "  0.2997834579408169,\n",
       "  0.2941152399748564,\n",
       "  0.29400786773860454,\n",
       "  0.2963312402427197,\n",
       "  0.31495147771835325,\n",
       "  0.31054605638831856,\n",
       "  0.33685760531425474,\n",
       "  0.2907204060614109,\n",
       "  0.3053820237338543,\n",
       "  0.2944250485777855,\n",
       "  0.30774199196696284,\n",
       "  0.3009355939671397,\n",
       "  0.3223996602535248,\n",
       "  0.33556604095101356],\n",
       " 'val_accuracy': [0.8974,\n",
       "  0.8974,\n",
       "  0.8964,\n",
       "  0.8964,\n",
       "  0.8868,\n",
       "  0.8904,\n",
       "  0.8972,\n",
       "  0.8984,\n",
       "  0.8964,\n",
       "  0.8994,\n",
       "  0.8952,\n",
       "  0.8992,\n",
       "  0.8976,\n",
       "  0.8978,\n",
       "  0.8974,\n",
       "  0.896,\n",
       "  0.8986,\n",
       "  0.8984,\n",
       "  0.8956,\n",
       "  0.8968,\n",
       "  0.8952,\n",
       "  0.894,\n",
       "  0.8876,\n",
       "  0.9004,\n",
       "  0.8958,\n",
       "  0.9008,\n",
       "  0.8952,\n",
       "  0.9004,\n",
       "  0.8966,\n",
       "  0.8894]}"
      ]
     },
     "execution_count": 61,
     "metadata": {},
     "output_type": "execute_result"
    }
   ],
   "source": [
    "history.history #shows the values at the end of each epoch"
   ]
  },
  {
   "cell_type": "markdown",
   "metadata": {},
   "source": [
    "## Plot te different values"
   ]
  },
  {
   "cell_type": "code",
   "execution_count": 70,
   "metadata": {},
   "outputs": [
    {
     "data": {
      "image/png": "[encoded data removed]",
      "text/plain": [
       "<Figure size 432x288 with 1 Axes>"
      ]
     },
     "metadata": {
      "needs_background": "light"
     },
     "output_type": "display_data"
    }
   ],
   "source": [
    "import pandas as pd\n",
    "import matplotlib.pyplot as plt\n",
    "\n",
    "pd.DataFrame(history.history).plot()\n",
    "plt.grid(True)\n",
    "plt.gca().set_ylim(0,1)\n",
    "plt.gca().set_xlim(0,30) #shift x axis for gaps\n",
    "plt.show()"
   ]
  },
  {
   "cell_type": "markdown",
   "metadata": {},
   "source": [
    "## Testing the the generalization error"
   ]
  },
  {
   "cell_type": "code",
   "execution_count": 82,
   "metadata": {},
   "outputs": [
    {
     "name": "stdout",
     "output_type": "stream",
     "text": [
      "10000/10000 [==============================] - 0s 42us/sample - loss: 104.7803 - accuracy: 0.8281\n"
     ]
    },
    {
     "data": {
      "text/plain": [
       "[104.78026002502442, 0.8281]"
      ]
     },
     "execution_count": 82,
     "metadata": {},
     "output_type": "execute_result"
    }
   ],
   "source": [
    "model.evaluate(X_test, y_test) #evaluate the model's performance on the training data"
   ]
  },
  {
   "cell_type": "markdown",
   "metadata": {},
   "source": [
    "## Using the model to make predictions:\n",
    "\n"
   ]
  },
  {
   "cell_type": "code",
   "execution_count": 83,
   "metadata": {},
   "outputs": [
    {
     "data": {
      "text/plain": [
       "array([[0., 0., 0., 0., 0., 0., 0., 0., 0., 1.],\n",
       "       [0., 0., 1., 0., 0., 0., 0., 0., 0., 0.],\n",
       "       [0., 1., 0., 0., 0., 0., 0., 0., 0., 0.]], dtype=float32)"
      ]
     },
     "execution_count": 83,
     "metadata": {},
     "output_type": "execute_result"
    }
   ],
   "source": [
    "X_new = X_test[:3]\n",
    "y_prob = model.predict(X_new)\n",
    "y_prob.round(2) # Shows the probability per class, each row in the array represents the vector of class values\n"
   ]
  },
  {
   "cell_type": "markdown",
   "metadata": {},
   "source": [
    "## To extract only the class values of the higest predicted prob"
   ]
  },
  {
   "cell_type": "code",
   "execution_count": 89,
   "metadata": {},
   "outputs": [],
   "source": [
    "import numpy as np"
   ]
  },
  {
   "cell_type": "code",
   "execution_count": 91,
   "metadata": {},
   "outputs": [
    {
     "name": "stdout",
     "output_type": "stream",
     "text": [
      "['Ankle boot' 'Pullover' 'Trouser']\n"
     ]
    }
   ],
   "source": [
    "y_pred = model.predict_classes(X_new)\n",
    "y_pred\n",
    "print(np.array(class_names)[y_pred]) #extrating the specific classes"
   ]
  },
  {
   "cell_type": "code",
   "execution_count": 97,
   "metadata": {},
   "outputs": [
    {
     "data": {
      "text/plain": [
       "<matplotlib.image.AxesImage at 0x2aabc685b48>"
      ]
     },
     "execution_count": 97,
     "metadata": {},
     "output_type": "execute_result"
    },
    {
     "data": {
      "image/png": "[encoded data removed]",
      "text/plain": [
       "<Figure size 432x288 with 1 Axes>"
      ]
     },
     "metadata": {
      "needs_background": "light"
     },
     "output_type": "display_data"
    }
   ],
   "source": [
    "plt.imshow(X_new[2]) # visually show the values"
   ]
  },
  {
   "cell_type": "code",
   "execution_count": null,
   "metadata": {},
   "outputs": [],
   "source": []
  },
  {
   "cell_type": "code",
   "execution_count": null,
   "metadata": {},
   "outputs": [],
   "source": []
  },
  {
   "cell_type": "code",
   "execution_count": null,
   "metadata": {},
   "outputs": [],
   "source": []
  },
  {
   "cell_type": "code",
   "execution_count": null,
   "metadata": {},
   "outputs": [],
   "source": []
  },
  {
   "cell_type": "code",
   "execution_count": null,
   "metadata": {},
   "outputs": [],
   "source": []
  },
  {
   "cell_type": "code",
   "execution_count": null,
   "metadata": {},
   "outputs": [],
   "source": []
  },
  {
   "cell_type": "code",
   "execution_count": null,
   "metadata": {},
   "outputs": [],
   "source": []
  },
  {
   "cell_type": "code",
   "execution_count": null,
   "metadata": {},
   "outputs": [],
   "source": []
  },
  {
   "cell_type": "code",
   "execution_count": null,
   "metadata": {},
   "outputs": [],
   "source": []
  },
  {
   "cell_type": "code",
   "execution_count": null,
   "metadata": {},
   "outputs": [],
   "source": []
  },
  {
   "cell_type": "code",
   "execution_count": null,
   "metadata": {},
   "outputs": [],
   "source": []
  },
  {
   "cell_type": "code",
   "execution_count": null,
   "metadata": {},
   "outputs": [],
   "source": []
  },
  {
   "cell_type": "code",
   "execution_count": null,
   "metadata": {},
   "outputs": [],
   "source": []
  },
  {
   "cell_type": "code",
   "execution_count": null,
   "metadata": {},
   "outputs": [],
   "source": []
  },
  {
   "cell_type": "code",
   "execution_count": null,
   "metadata": {},
   "outputs": [],
   "source": []
  },
  {
   "cell_type": "code",
   "execution_count": null,
   "metadata": {},
   "outputs": [],
   "source": []
  },
  {
   "cell_type": "code",
   "execution_count": null,
   "metadata": {},
   "outputs": [],
   "source": []
  },
  {
   "cell_type": "code",
   "execution_count": null,
   "metadata": {},
   "outputs": [],
   "source": []
  },
  {
   "cell_type": "code",
   "execution_count": null,
   "metadata": {},
   "outputs": [],
   "source": []
  },
  {
   "cell_type": "code",
   "execution_count": null,
   "metadata": {},
   "outputs": [],
   "source": []
  },
  {
   "cell_type": "code",
   "execution_count": null,
   "metadata": {},
   "outputs": [],
   "source": []
  },
  {
   "cell_type": "code",
   "execution_count": null,
   "metadata": {},
   "outputs": [],
   "source": []
  },
  {
   "cell_type": "code",
   "execution_count": null,
   "metadata": {},
   "outputs": [],
   "source": []
  },
  {
   "cell_type": "code",
   "execution_count": null,
   "metadata": {},
   "outputs": [],
   "source": []
  }
 ],
 "metadata": {
  "kernelspec": {
   "display_name": "Python 3",
   "language": "python",
   "name": "python3"
  },
  "language_info": {
   "codemirror_mode": {
    "name": "ipython",
    "version": 3
   },
   "file_extension": ".py",
   "mimetype": "text/x-python",
   "name": "python",
   "nbconvert_exporter": "python",
   "pygments_lexer": "ipython3",
   "version": "3.7.4"
  }
 },
 "nbformat": 4,
 "nbformat_minor": 4
}
